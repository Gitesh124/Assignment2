{
 "cells": [
  {
   "cell_type": "markdown",
   "metadata": {},
   "source": [
    "\n",
    "Assignment 2\n",
    "Write a function greet that takes two arguments: name (a string) and greeting (a string with a default value of \"Hello\"). The function should return a greeting message."
   ]
  },
  {
   "cell_type": "code",
   "execution_count": 7,
   "metadata": {},
   "outputs": [
    {
     "name": "stdout",
     "output_type": "stream",
     "text": [
      "Hello Gitesh\n",
      "Good Morning Gitesh\n"
     ]
    }
   ],
   "source": [
    "def func(name,greet=\"Hello\"):\n",
    "    print(greet,name)\n",
    "\n",
    " \n",
    "func(\"Gitesh\") #called function with name string as it does not have default value\n",
    "func(\"Gitesh\",\"Good Morning\")   "
   ]
  },
  {
   "cell_type": "markdown",
   "metadata": {},
   "source": [
    "\n",
    "Create a function create_profile that takes arguments for name, age, and city as named arguments. The function should return a string like \"Name: Alice, Age: 25, City: New York\". Ensure that the age argument has a default value of 18."
   ]
  },
  {
   "cell_type": "code",
   "execution_count": 8,
   "metadata": {},
   "outputs": [
    {
     "name": "stdout",
     "output_type": "stream",
     "text": [
      "Name:  Gitesh Age: 18 City: New Delhi\n",
      "Name:  Gagan Age: 22 City: Chattisgarh\n"
     ]
    }
   ],
   "source": [
    "def create_profile(name,city,age=18):\n",
    "    print(\"Name: \",name,\"Age:\",age,\"City:\",city)\n",
    "    \n",
    "create_profile(name=\"Gitesh\",city=\"New Delhi\")\n",
    "create_profile(name=\"Gagan\",city=\"Chattisgarh\",age=22)"
   ]
  },
  {
   "cell_type": "markdown",
   "metadata": {},
   "source": [
    "Write a function sum_numbers that takes any number of positional arguments (args) and keyword arguments (*kwargs). It should:\n",
    "Return the sum of all *args if they are numbers.\n",
    "Return a dictionary of all keyword arguments"
   ]
  },
  {
   "cell_type": "code",
   "execution_count": 9,
   "metadata": {},
   "outputs": [
    {
     "name": "stdout",
     "output_type": "stream",
     "text": [
      "9\n",
      "(9, {'a': 12, 'b': 32})\n"
     ]
    }
   ],
   "source": [
    "def sum_number(*args,**kwargs):\n",
    "    sum=0\n",
    "    for i in args: #just simple iteration for getting sum of elements\n",
    "        sum+=i\n",
    "    if(len(kwargs)):\n",
    "        return sum,kwargs # return dict only when it have elements \n",
    "    else:\n",
    "        return sum\n",
    "\n",
    "\n",
    "print(sum_number(2,3,4))\n",
    "print(sum_number(2,3,4,a=12,b=32))"
   ]
  },
  {
   "cell_type": "markdown",
   "metadata": {},
   "source": [
    "Write a function that uses map and a lambda to return a list where each element is squared."
   ]
  },
  {
   "cell_type": "code",
   "execution_count": 10,
   "metadata": {},
   "outputs": [
    {
     "name": "stdout",
     "output_type": "stream",
     "text": [
      "[1, 4, 9, 16, 25]\n"
     ]
    }
   ],
   "source": [
    "def square_elements(lst):\n",
    "    return list(map(lambda x: x ** 2, lst))# each element of list is squared\n",
    "\n",
    "numbers = [1, 2, 3, 4, 5]\n",
    "squared = square_elements(numbers)\n",
    "print(squared)"
   ]
  },
  {
   "cell_type": "markdown",
   "metadata": {},
   "source": [
    "Write a function that filters out all odd numbers from a list using filter and a lambda function."
   ]
  },
  {
   "cell_type": "code",
   "execution_count": null,
   "metadata": {},
   "outputs": [],
   "source": [
    "def filter_odd(lst):\n",
    "    return list(filter(lambda x: x % 2 == 0, lst)) \n",
    "#filter function take lambda as condition and lst as iterable list\n",
    "\n",
    "numbers = [1, 2, 3, 4, 5]\n",
    "odd = filter_odd(numbers)\n",
    "print(odd)"
   ]
  },
  {
   "cell_type": "markdown",
   "metadata": {},
   "source": [
    "Create a list comprehension that takes a list of numbers and returns a list of their squares."
   ]
  },
  {
   "cell_type": "code",
   "execution_count": null,
   "metadata": {},
   "outputs": [],
   "source": [
    "list1=[x**2 for x in range(7)]\n",
    "# first part is expression next part is iterative part \n",
    "print(list1)"
   ]
  },
  {
   "cell_type": "markdown",
   "metadata": {},
   "source": [
    "Use a list comprehension to create a list of even numbers from 1 to 20."
   ]
  },
  {
   "cell_type": "code",
   "execution_count": null,
   "metadata": {},
   "outputs": [],
   "source": [
    "list2=[x for x in range(1,21) if x%2==0]\n",
    "print(list2)"
   ]
  },
  {
   "cell_type": "markdown",
   "metadata": {},
   "source": [
    "\n",
    "Write a function file_operations that creates a directory named \"test_folder\" using os.makedirs(). Then, pause the execution for 3 seconds using time.sleep(), and finally, delete the directory using os.rmdir()."
   ]
  },
  {
   "cell_type": "code",
   "execution_count": null,
   "metadata": {},
   "outputs": [],
   "source": [
    "import os\n",
    "import time\n",
    "def file_operation(path):\n",
    "    # check wether the path is correct or not\n",
    "    try:\n",
    "        os.makedir(path,exist_ok=True)\n",
    "        print(\"Directory  Created\")\n",
    "    except Exception as e:\n",
    "        print(e)\n",
    "    time.sleep(3)\n",
    "    os.rmdir(path)\n",
    "    print(\"Directory  removed\")\n",
    "    \n",
    "path=r\"C:\\\\Users\\\\gites\\\\OneDrive\\\\Desktop\\\\Assignment2\\\\NEW\"# new directory created with name new_folder \n",
    "file_operation(path)"
   ]
  }
 ],
 "metadata": {
  "kernelspec": {
   "display_name": "Python 3",
   "language": "python",
   "name": "python3"
  },
  "language_info": {
   "codemirror_mode": {
    "name": "ipython",
    "version": 3
   },
   "file_extension": ".py",
   "mimetype": "text/x-python",
   "name": "python",
   "nbconvert_exporter": "python",
   "pygments_lexer": "ipython3",
   "version": "3.12.4"
  }
 },
 "nbformat": 4,
 "nbformat_minor": 2
}
